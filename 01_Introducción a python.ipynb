{
 "cells": [
  {
   "cell_type": "markdown",
   "metadata": {},
   "source": [
    "<img src=\"OriginalLogo.jpg\" alt=\"El taller de datos\" width=\"500\"/>\n"
   ]
  },
  {
   "cell_type": "markdown",
   "metadata": {
    "id": "DXA8BesRgld4"
   },
   "source": [
    "\n",
    "\n",
    "#### Módulo 1: Python para la ciencia de datos\n",
    "\n",
    "# 1. Introducción a Python. Lenguaje de programación y Sintaxis básica\n",
    "\n",
    "#### Contenidos:\n",
    "* [Primeras instrucciones](#1)\n",
    "* [Variables](#2)\n",
    "* [Números](#3)\n",
    "* [Cadenas de texto (strings)](#4)\n",
    "* [Booleanos](#5)\n",
    "* [Prioridad de operaciones](#6)\n",
    "* [Estructuras alternativas IF-ELSE](#7)\n",
    "* [Estructuras repetitivas WHILE](#8)\n",
    "* [Estructuras repetitivas FOR](#9)\n",
    "* [Entrada-Salida estándar](#10)\n",
    "\n",
    "\n",
    "Python:\n",
    "\n",
    "📚 Lenguaje de programación: Ideal para principiantes y expertos.\n",
    "\n",
    "🎯 Propósito general: Usado en desarrollo web, ciencia de datos, automatización, y más.\n",
    "\n",
    "🔄 Multiparadigma: Soporta programación orientada a objetos, funcional, y procedimental.\n",
    "\n",
    "⚙️ Características principales:\n",
    "\n",
    "📜 Código limpio y legible: Sintaxis simple y clara.\n",
    "\n",
    "🚀 Tipado dinámico: No necesitas declarar tipos de datos.\n",
    "\n",
    "🔄 Interpretado: Ejecuta el código línea por línea sin necesidad de compilar.\n",
    "\n",
    "💻 Multiplataforma: Funciona en Windows, macOS y Linux.\n",
    "\n",
    "## 🧠 Ventajas:\n",
    "\n",
    "⌛ Ahorra tiempo: Menos líneas de código para tareas complejas.\n",
    "\n",
    "🌍 Gran comunidad: Amplia documentación, bibliotecas y soporte.\n",
    "\n",
    "🛠️ Gestión automática de memoria: Facilita la programación y reduce errores.\n",
    "\n",
    "🚧 Consideraciones:\n",
    "\n",
    "🐢 Puede ser más lento que lenguajes compilados como C o Java.\n",
    "\n",
    "🎢 Curva de aprendizaje: Inicialmente puede ser abrumador debido a la cantidad de herramientas disponibles.\n",
    "\n",
    "\n",
    "\n",
    "## 1.1 Primeras instrucciones <a class=\"anchor\" id=\"1\"></a>\n",
    "\n",
    "Vamos a comenzar con las instrucciones más básicas que podemos usar en Python\n",
    "\n",
    "\n",
    "\n",
    "## 1.1 Primeras instrucciones <a class=\"anchor\" id=\"1\"></a>\n",
    "\n",
    "Vamos a comenzar con las instrucciones más básicas que podemos usar en Python"
   ]
  },
  {
   "cell_type": "markdown",
   "metadata": {},
   "source": [
    "# Ejercicio 1: Imprimir un Mensaje en la Consola\n",
    "\n",
    "Objetivo: Aprender a usar la función print() para mostrar mensajes en la consola.\n",
    "\n",
    "Instrucción: Escribe un programa que imprima \"¡Hola, mundo!\" en la consola."
   ]
  },
  {
   "cell_type": "code",
   "execution_count": 1,
   "metadata": {
    "id": "oO6ceyWmgld_",
    "outputId": "3d864a30-fa5e-4888-f69e-b80460cba974"
   },
   "outputs": [
    {
     "name": "stdout",
     "output_type": "stream",
     "text": [
      "¡Hola, mundo!\n"
     ]
    }
   ],
   "source": [
    "print(\"¡Hola, mundo!\")"
   ]
  },
  {
   "cell_type": "markdown",
   "metadata": {},
   "source": [
    "# Ejercicio 2: Uso de la Función help()\n",
    "\n",
    "Objetivo: Familiarizarte con la documentación de Python directamente en la consola.\n",
    "Instrucción: Usa la función help() para obtener información sobre cualquier función o módulo de Python."
   ]
  },
  {
   "cell_type": "code",
   "execution_count": 2,
   "metadata": {
    "id": "GlkN-p8sgleD",
    "outputId": "04f2ce80-f2c6-4b8c-ec83-1264a7a10455"
   },
   "outputs": [
    {
     "name": "stdout",
     "output_type": "stream",
     "text": [
      "Help on built-in function print in module builtins:\n",
      "\n",
      "print(...)\n",
      "    print(value, ..., sep=' ', end='\\n', file=sys.stdout, flush=False)\n",
      "    \n",
      "    Prints the values to a stream, or to sys.stdout by default.\n",
      "    Optional keyword arguments:\n",
      "    file:  a file-like object (stream); defaults to the current sys.stdout.\n",
      "    sep:   string inserted between values, default a space.\n",
      "    end:   string appended after the last value, default a newline.\n",
      "    flush: whether to forcibly flush the stream.\n",
      "\n"
     ]
    }
   ],
   "source": [
    "help('print')"
   ]
  },
  {
   "cell_type": "markdown",
   "metadata": {
    "id": "43aKJFZPgleF"
   },
   "source": [
    "## 1.2 Variables <a class=\"anchor\" id=\"2\"></a>\n",
    "\n",
    "En programación, las variables son contenedores que almacenan datos, y el tipo de variable determina el tipo de datos que se pueden almacenar en ellas. En Python (y otros lenguajes de programación), existen varios tipos de variables que definen el tipo de datos que pueden almacenar. Aquí te explico los principales tipos de variables en Python:\n",
    "\n",
    "🔢 Flotantes (float): Guardan números decimales o fraccionarios.\n",
    "\n",
    "📝 Cadenas de texto (str): Contienen secuencias de caracteres, como palabras o frases.\n",
    "\n",
    "✅ ❌ Booleanos (bool): Almacenan valores de verdadero o falso.\n",
    "\n",
    "📋 Listas (list): Son colecciones de elementos ordenados que pueden contener cualquier tipo de dato.\n",
    "\n",
    "📦 Tuplas (tuple): Similares a las listas, pero inmutables (no se pueden modificar después de ser creadas).\n",
    "\n",
    "🎲 Conjuntos (set): Almacenan elementos únicos, sin duplicados, en una colección no ordenada.\n",
    "\n",
    "🔑📄 Diccionarios (dict): Guardan pares clave-valor, donde cada valor está asociado a una clave única.\n",
    "\n",
    "❓ NoneType: Representa la ausencia de valor o la falta de asignación de un valor.\n",
    "\n",
    "En Python, al ser de tipado dinámico, el tipo de variable se asigna automáticamente según el valor dado."
   ]
  },
  {
   "cell_type": "markdown",
   "metadata": {},
   "source": [
    "# Ejercicio 3: Crear tu Primera Variable\n",
    "Objetivo: Aprender a definir y usar variables.\n",
    "Instrucción:\n",
    "Define una variable llamada nombre que almacene tu nombre y luego imprímelo con un mensaje personalizado."
   ]
  },
  {
   "cell_type": "code",
   "execution_count": 10,
   "metadata": {},
   "outputs": [
    {
     "name": "stdout",
     "output_type": "stream",
     "text": [
      "Hola, Silvia!\n"
     ]
    }
   ],
   "source": [
    "nombre = \"Silvia\"\n",
    "print(\"Hola, \" + nombre + \"!\")\n"
   ]
  },
  {
   "cell_type": "code",
   "execution_count": 3,
   "metadata": {
    "id": "ROOxdLjxgleH"
   },
   "outputs": [],
   "source": [
    "x = 5"
   ]
  },
  {
   "cell_type": "code",
   "execution_count": 4,
   "metadata": {
    "id": "ZswENLkSgleI",
    "outputId": "7cc2f304-4dd6-4a7d-fcfb-5e4195b66c14"
   },
   "outputs": [
    {
     "data": {
      "text/plain": [
       "int"
      ]
     },
     "execution_count": 4,
     "metadata": {},
     "output_type": "execute_result"
    }
   ],
   "source": [
    "type(x)"
   ]
  },
  {
   "cell_type": "code",
   "execution_count": 5,
   "metadata": {
    "id": "MkXiDSKtgleJ"
   },
   "outputs": [],
   "source": [
    "x = 5.0"
   ]
  },
  {
   "cell_type": "code",
   "execution_count": 6,
   "metadata": {
    "id": "1Zjs6WcjgleL",
    "outputId": "73b93bc9-2221-4396-eff3-362a353ff0c5"
   },
   "outputs": [
    {
     "data": {
      "text/plain": [
       "float"
      ]
     },
     "execution_count": 6,
     "metadata": {},
     "output_type": "execute_result"
    }
   ],
   "source": [
    "type(x)"
   ]
  },
  {
   "cell_type": "code",
   "execution_count": 7,
   "metadata": {
    "id": "5J_N1OhngleM",
    "outputId": "21e9fdc1-407b-43b3-fec3-cb0e1705e39e"
   },
   "outputs": [
    {
     "name": "stdout",
     "output_type": "stream",
     "text": [
      "5.0\n"
     ]
    }
   ],
   "source": [
    "print(x)"
   ]
  },
  {
   "cell_type": "markdown",
   "metadata": {
    "id": "LMPzMyVKgleP"
   },
   "source": [
    "Una vez que hemos visto cómo asignar valor a una variable, vamos a hacer un repaso de los tipos más básicos que podemos utilizar en Python\n",
    "\n",
    "## 1.3 Números <a class=\"anchor\" id=\"3\"></a>\n",
    "\n",
    "Vamos a comenzar a probar Python como una gran calculadora"
   ]
  },
  {
   "cell_type": "code",
   "execution_count": null,
   "metadata": {
    "id": "wHennpWwgleQ",
    "outputId": "483f52b8-774b-4499-a3aa-05b96432a3b7"
   },
   "outputs": [
    {
     "data": {
      "text/plain": [
       "4"
      ]
     },
     "execution_count": 4,
     "metadata": {},
     "output_type": "execute_result"
    }
   ],
   "source": [
    "2+2"
   ]
  },
  {
   "cell_type": "code",
   "execution_count": null,
   "metadata": {
    "id": "IEzVqSq3gleS",
    "outputId": "7d80f3c9-3ade-4880-dc61-5ab82aa5b5a1"
   },
   "outputs": [
    {
     "data": {
      "text/plain": [
       "4"
      ]
     },
     "execution_count": 5,
     "metadata": {},
     "output_type": "execute_result"
    }
   ],
   "source": [
    "8-2*2"
   ]
  },
  {
   "cell_type": "code",
   "execution_count": null,
   "metadata": {
    "id": "QC6urNK8gleS",
    "outputId": "f79d9bf2-9ce3-415b-dfc6-165127d1469a"
   },
   "outputs": [
    {
     "data": {
      "text/plain": [
       "12"
      ]
     },
     "execution_count": 6,
     "metadata": {},
     "output_type": "execute_result"
    }
   ],
   "source": [
    "(8-2)*2"
   ]
  },
  {
   "cell_type": "code",
   "execution_count": null,
   "metadata": {
    "id": "bRvrBDaEgleS",
    "outputId": "7ae222e0-bfaa-4c26-b577-5e7198f7529a"
   },
   "outputs": [
    {
     "data": {
      "text/plain": [
       "1"
      ]
     },
     "execution_count": 7,
     "metadata": {},
     "output_type": "execute_result"
    }
   ],
   "source": [
    "8//5"
   ]
  },
  {
   "cell_type": "code",
   "execution_count": null,
   "metadata": {
    "id": "nQzCR8k-gleU",
    "outputId": "4e6cfef8-4343-4aba-9dc1-7209e5de7031"
   },
   "outputs": [
    {
     "data": {
      "text/plain": [
       "1.6"
      ]
     },
     "execution_count": 8,
     "metadata": {},
     "output_type": "execute_result"
    }
   ],
   "source": [
    "8/5"
   ]
  },
  {
   "cell_type": "code",
   "execution_count": null,
   "metadata": {
    "id": "pxTC1iLPgleW",
    "outputId": "192f2c6e-f2d9-44f6-9b1d-95eab7af4091"
   },
   "outputs": [
    {
     "data": {
      "text/plain": [
       "1"
      ]
     },
     "execution_count": 9,
     "metadata": {},
     "output_type": "execute_result"
    }
   ],
   "source": [
    "11%2"
   ]
  },
  {
   "cell_type": "code",
   "execution_count": null,
   "metadata": {
    "id": "0vPIGC-QgleX",
    "outputId": "e1cc7814-ac08-49eb-c626-cad56f8a66b5"
   },
   "outputs": [
    {
     "data": {
      "text/plain": [
       "25"
      ]
     },
     "execution_count": 10,
     "metadata": {},
     "output_type": "execute_result"
    }
   ],
   "source": [
    "5**2"
   ]
  },
  {
   "cell_type": "markdown",
   "metadata": {
    "id": "qkEcKiFegleY"
   },
   "source": [
    "Python tiene incluidos varios tipos de datos numéricos. Los tipos básicos son int (enteros), float (reales) y complex (complejos).\n",
    "\n",
    "Números enteros:\n",
    "- los definimos sin incluir decimales\n",
    "- la aritmética de números enteros es muy potente en Python y no tiene límites (excepto el de la memoria). "
   ]
  },
  {
   "cell_type": "code",
   "execution_count": null,
   "metadata": {
    "id": "dSDFmrQ3gleZ",
    "outputId": "62256427-96ed-48de-eb49-ea7ff3078336"
   },
   "outputs": [
    {
     "data": {
      "text/plain": [
       "5"
      ]
     },
     "execution_count": 23,
     "metadata": {},
     "output_type": "execute_result"
    }
   ],
   "source": [
    "5"
   ]
  },
  {
   "cell_type": "code",
   "execution_count": null,
   "metadata": {
    "id": "GX3Y_pFZglea",
    "outputId": "22e54a89-975e-40d5-c8dd-7917ef446da9"
   },
   "outputs": [
    {
     "data": {
      "text/plain": [
       "2568425733177916751582514591250062824975751856847252861083144972201529372215371495172688738416791235950675277761805770367685269653410060480042878305982363696267199058168185838960773319279454451792623658074111"
      ]
     },
     "execution_count": 13,
     "metadata": {},
     "output_type": "execute_result"
    }
   ],
   "source": [
    "2**689-1"
   ]
  },
  {
   "cell_type": "markdown",
   "metadata": {
    "id": "XweYZVeyglea"
   },
   "source": [
    "Los números reales se definen mediante el uso de decimales."
   ]
  },
  {
   "cell_type": "code",
   "execution_count": null,
   "metadata": {
    "id": "dLSUh3WRgleb",
    "outputId": "754510ca-498c-46aa-ee28-b0113429c3c4"
   },
   "outputs": [
    {
     "data": {
      "text/plain": [
       "5.0"
      ]
     },
     "execution_count": 24,
     "metadata": {},
     "output_type": "execute_result"
    }
   ],
   "source": [
    "5.0"
   ]
  },
  {
   "cell_type": "code",
   "execution_count": null,
   "metadata": {
    "id": "Yky1C_EIgleb",
    "outputId": "b977b9c9-7c16-4370-b793-0388a0445998"
   },
   "outputs": [
    {
     "data": {
      "text/plain": [
       "1.0000000000000002"
      ]
     },
     "execution_count": 25,
     "metadata": {},
     "output_type": "execute_result"
    }
   ],
   "source": [
    "1.0+2*10**-16"
   ]
  },
  {
   "cell_type": "markdown",
   "metadata": {
    "id": "mjxsjjF_glec"
   },
   "source": [
    "Los números complejos se definen mediante una parte real y una parte imaginaria utilizando la letra j"
   ]
  },
  {
   "cell_type": "code",
   "execution_count": null,
   "metadata": {
    "id": "WSBEYzJmglec",
    "outputId": "8b8eedc1-3f56-4823-dcfd-f770588641cc"
   },
   "outputs": [
    {
     "data": {
      "text/plain": [
       "(5+1j)"
      ]
     },
     "execution_count": 26,
     "metadata": {},
     "output_type": "execute_result"
    }
   ],
   "source": [
    "5+1j"
   ]
  },
  {
   "cell_type": "markdown",
   "metadata": {
    "id": "CF7eRlBKgled"
   },
   "source": [
    "En cualquier caso, podemos conocer el tipo mediante la instrucción type"
   ]
  },
  {
   "cell_type": "code",
   "execution_count": null,
   "metadata": {
    "id": "d6xAw_8_gled",
    "outputId": "c048a470-17d2-478b-a80e-b0eda3124fb6"
   },
   "outputs": [
    {
     "data": {
      "text/plain": [
       "int"
      ]
     },
     "execution_count": 27,
     "metadata": {},
     "output_type": "execute_result"
    }
   ],
   "source": [
    "type(1)"
   ]
  },
  {
   "cell_type": "code",
   "execution_count": null,
   "metadata": {
    "id": "bRCVtHHlglee",
    "outputId": "2cb9c138-7e88-4bb6-b36f-520d0de07d3e"
   },
   "outputs": [
    {
     "data": {
      "text/plain": [
       "float"
      ]
     },
     "execution_count": 28,
     "metadata": {},
     "output_type": "execute_result"
    }
   ],
   "source": [
    "type(1.0)"
   ]
  },
  {
   "cell_type": "code",
   "execution_count": null,
   "metadata": {
    "id": "Df-OeIRqglee",
    "outputId": "3c279710-ee56-41d5-9f62-53c37c64c86a"
   },
   "outputs": [
    {
     "data": {
      "text/plain": [
       "complex"
      ]
     },
     "execution_count": 29,
     "metadata": {},
     "output_type": "execute_result"
    }
   ],
   "source": [
    "type(1+0j)"
   ]
  },
  {
   "cell_type": "markdown",
   "metadata": {
    "id": "oWqvrUgXglef"
   },
   "source": [
    "Además, podemos operar con números de distintos tipos, en cuyo caso el resultado será el tipo más general que aparezca en la operación"
   ]
  },
  {
   "cell_type": "code",
   "execution_count": null,
   "metadata": {
    "id": "aZIod_vGgleg",
    "outputId": "a31966c3-7a35-4396-ec22-3199c205b886"
   },
   "outputs": [
    {
     "data": {
      "text/plain": [
       "int"
      ]
     },
     "execution_count": 31,
     "metadata": {},
     "output_type": "execute_result"
    }
   ],
   "source": [
    "type(2+3)"
   ]
  },
  {
   "cell_type": "code",
   "execution_count": null,
   "metadata": {
    "id": "h_0JZjGYgleg",
    "outputId": "488478db-5935-4eaf-8b35-41a6177d0f38"
   },
   "outputs": [
    {
     "data": {
      "text/plain": [
       "float"
      ]
     },
     "execution_count": 32,
     "metadata": {},
     "output_type": "execute_result"
    }
   ],
   "source": [
    "type(2+3.0)"
   ]
  },
  {
   "cell_type": "code",
   "execution_count": null,
   "metadata": {
    "id": "qAZ1NDgNgleh",
    "outputId": "138f3318-7235-4d8f-bc4e-17409a2f1243"
   },
   "outputs": [
    {
     "data": {
      "text/plain": [
       "complex"
      ]
     },
     "execution_count": 33,
     "metadata": {},
     "output_type": "execute_result"
    }
   ],
   "source": [
    "type(2+(3+0j))"
   ]
  },
  {
   "cell_type": "markdown",
   "metadata": {
    "id": "f6lSqVzUglei"
   },
   "source": [
    "Podemos también transformar números de un tipo a otro utilizando el nombre del tipo a modo de función"
   ]
  },
  {
   "cell_type": "code",
   "execution_count": null,
   "metadata": {
    "id": "BMAYu9Xeglej",
    "outputId": "bd9d9567-0a95-4d30-e8b9-a53e74c215f8"
   },
   "outputs": [
    {
     "data": {
      "text/plain": [
       "5"
      ]
     },
     "execution_count": 34,
     "metadata": {},
     "output_type": "execute_result"
    }
   ],
   "source": [
    "int(5.4)"
   ]
  },
  {
   "cell_type": "code",
   "execution_count": null,
   "metadata": {
    "id": "nbWPIvZ3glej",
    "outputId": "4569f687-52ea-413f-f6a3-9d0f1c8ae688"
   },
   "outputs": [
    {
     "data": {
      "text/plain": [
       "3.0"
      ]
     },
     "execution_count": 35,
     "metadata": {},
     "output_type": "execute_result"
    }
   ],
   "source": [
    "float(3)"
   ]
  },
  {
   "cell_type": "code",
   "execution_count": null,
   "metadata": {
    "id": "IDhyJYRcglek",
    "outputId": "654c3e8a-aa05-45c9-bf7b-cea35d1bc7e1"
   },
   "outputs": [
    {
     "data": {
      "text/plain": [
       "(2.5+0j)"
      ]
     },
     "execution_count": 36,
     "metadata": {},
     "output_type": "execute_result"
    }
   ],
   "source": [
    "complex(2.5)"
   ]
  },
  {
   "cell_type": "markdown",
   "metadata": {
    "id": "ohap3Czfglek"
   },
   "source": [
    "Para más información y otras funciones: \n",
    "\n",
    "## 1.4 Cadenas de texto (strings) <a class=\"anchor\" id=\"4\"></a>\n",
    "\n",
    "El tipo string lo forman una cadena de caracteres encerrada entre comillas dobles o apóstrofes"
   ]
  },
  {
   "cell_type": "code",
   "execution_count": null,
   "metadata": {
    "id": "LionTSiMglel",
    "outputId": "40e99218-92c6-45ea-f351-c86180e29d69"
   },
   "outputs": [
    {
     "data": {
      "text/plain": [
       "'Hola mundo'"
      ]
     },
     "execution_count": 37,
     "metadata": {},
     "output_type": "execute_result"
    }
   ],
   "source": [
    "'Hola mundo'"
   ]
  },
  {
   "cell_type": "code",
   "execution_count": null,
   "metadata": {
    "id": "gCxiW1ACglem",
    "outputId": "1ef18273-835b-40fe-e478-617e29afd3a6"
   },
   "outputs": [
    {
     "data": {
      "text/plain": [
       "'Hola mundo'"
      ]
     },
     "execution_count": 38,
     "metadata": {},
     "output_type": "execute_result"
    }
   ],
   "source": [
    "\"Hola mundo\""
   ]
  },
  {
   "cell_type": "code",
   "execution_count": null,
   "metadata": {
    "id": "s1b1lET2glen",
    "outputId": "7433376f-2fdd-479d-c393-fe64cabf5a0c"
   },
   "outputs": [
    {
     "data": {
      "text/plain": [
       "str"
      ]
     },
     "execution_count": 39,
     "metadata": {},
     "output_type": "execute_result"
    }
   ],
   "source": [
    "type('Hola mundo')"
   ]
  },
  {
   "cell_type": "code",
   "execution_count": null,
   "metadata": {
    "id": "P1MA7Dt6glen",
    "outputId": "192230fd-f450-424d-ce7f-89cf44867c7a"
   },
   "outputs": [
    {
     "data": {
      "text/plain": [
       "str"
      ]
     },
     "execution_count": 40,
     "metadata": {},
     "output_type": "execute_result"
    }
   ],
   "source": [
    "type(\"Hola mundo\")"
   ]
  },
  {
   "cell_type": "markdown",
   "metadata": {
    "id": "_pUY7lrIglep"
   },
   "source": [
    "Podemos incluir (sin necesidad de usar caracteres especiales) las dobles comillas o los apóstrofes dentro del propio string"
   ]
  },
  {
   "cell_type": "code",
   "execution_count": null,
   "metadata": {
    "id": "OkzPlYJ7glep",
    "outputId": "3404bbb0-055d-4b9c-afc7-55b874c505f5"
   },
   "outputs": [
    {
     "data": {
      "text/plain": [
       "'Hola \"mundo\" hola'"
      ]
     },
     "execution_count": 41,
     "metadata": {},
     "output_type": "execute_result"
    }
   ],
   "source": [
    "'Hola \"mundo\" hola'"
   ]
  },
  {
   "cell_type": "code",
   "execution_count": null,
   "metadata": {
    "id": "S-LNNd6cgleq",
    "outputId": "0c42b7a3-9947-4b82-a10f-4f60cfb83831"
   },
   "outputs": [
    {
     "data": {
      "text/plain": [
       "\"Hola 'mundo' hola\""
      ]
     },
     "execution_count": 42,
     "metadata": {},
     "output_type": "execute_result"
    }
   ],
   "source": [
    "\"Hola 'mundo' hola\""
   ]
  },
  {
   "cell_type": "markdown",
   "metadata": {
    "id": "-8s3GqCbgleq"
   },
   "source": [
    "E incluso podemos utilizar las triples comillas para introducir saltos de línea."
   ]
  },
  {
   "cell_type": "code",
   "execution_count": null,
   "metadata": {
    "id": "wXaSEiD5gler",
    "outputId": "2b98691a-2734-41cf-8246-c241295062e0"
   },
   "outputs": [
    {
     "name": "stdout",
     "output_type": "stream",
     "text": [
      "Hola\n",
      "mundo\n"
     ]
    }
   ],
   "source": [
    "print(\"\"\"Hola\n",
    "mundo\"\"\")"
   ]
  },
  {
   "cell_type": "code",
   "execution_count": null,
   "metadata": {
    "id": "eoM0tz-0gles",
    "outputId": "f6a91116-93c3-422f-dff2-62095da7b715"
   },
   "outputs": [
    {
     "name": "stdout",
     "output_type": "stream",
     "text": [
      "Hola\n",
      "mundo\n"
     ]
    }
   ],
   "source": [
    "print('''Hola\n",
    "mundo''')"
   ]
  },
  {
   "cell_type": "markdown",
   "metadata": {
    "id": "01SEjx8fglet"
   },
   "source": [
    "En realidad, lo que estamos haciendo es introducir el caracter especial \\n como salto de línea dentro del string"
   ]
  },
  {
   "cell_type": "code",
   "execution_count": null,
   "metadata": {
    "id": "dvNupoLFglet",
    "outputId": "8a82c60a-639c-433a-a4fb-7448bac63d34"
   },
   "outputs": [
    {
     "data": {
      "text/plain": [
       "'Hla\\nmundo'"
      ]
     },
     "execution_count": 47,
     "metadata": {},
     "output_type": "execute_result"
    }
   ],
   "source": [
    "\"\"\"Hola\n",
    "mundo\"\"\""
   ]
  },
  {
   "cell_type": "markdown",
   "metadata": {
    "id": "A_dhShCIglet"
   },
   "source": [
    "De la misma manera, podríamos haberlo introducido manualmente el caracter \\n o cualquier otro caracter especial."
   ]
  },
  {
   "cell_type": "code",
   "execution_count": null,
   "metadata": {
    "id": "cXgf3iFZgleu",
    "outputId": "4ffe608a-1a49-4f61-fe57-0de690770853"
   },
   "outputs": [
    {
     "name": "stdout",
     "output_type": "stream",
     "text": [
      "Hola\n",
      "mundo\n"
     ]
    }
   ],
   "source": [
    "print(\"Hola\\nmundo\")"
   ]
  },
  {
   "cell_type": "markdown",
   "metadata": {
    "id": "7XgBANEYgleu"
   },
   "source": [
    "print(\"Hola\\tmundo\")"
   ]
  },
  {
   "cell_type": "code",
   "execution_count": null,
   "metadata": {
    "id": "4fHx65P2gleu",
    "outputId": "77c3de7b-6b51-48ce-da99-f25d216fb794"
   },
   "outputs": [
    {
     "name": "stdout",
     "output_type": "stream",
     "text": [
      "Hola\\tmundo\n"
     ]
    }
   ],
   "source": [
    "print(\"Hola\\\\mundo\")"
   ]
  },
  {
   "cell_type": "markdown",
   "metadata": {
    "id": "QUkAl3Ccglev"
   },
   "source": [
    "El tipo string permite realizar un acceso individualizado a cada caracter"
   ]
  },
  {
   "cell_type": "code",
   "execution_count": null,
   "metadata": {
    "id": "iY2DkYDGglev"
   },
   "outputs": [],
   "source": [
    "s = \"Python\""
   ]
  },
  {
   "cell_type": "code",
   "execution_count": null,
   "metadata": {
    "id": "oQY_Pqd-glev",
    "outputId": "c3021248-b835-413e-d9fd-d638cea9e85b"
   },
   "outputs": [
    {
     "data": {
      "text/plain": [
       "'P'"
      ]
     },
     "execution_count": 61,
     "metadata": {},
     "output_type": "execute_result"
    }
   ],
   "source": [
    "s[0]"
   ]
  },
  {
   "cell_type": "code",
   "execution_count": null,
   "metadata": {
    "id": "iaO956Amglev",
    "outputId": "6f86dc2d-ab13-4e9a-b170-f884a664d532"
   },
   "outputs": [
    {
     "data": {
      "text/plain": [
       "'y'"
      ]
     },
     "execution_count": 62,
     "metadata": {},
     "output_type": "execute_result"
    }
   ],
   "source": [
    "s[1]"
   ]
  },
  {
   "cell_type": "code",
   "execution_count": null,
   "metadata": {
    "id": "diKARTYDglew",
    "outputId": "fd4f12c8-cbdc-4c6b-dc95-0b5a2e526772"
   },
   "outputs": [
    {
     "data": {
      "text/plain": [
       "'t'"
      ]
     },
     "execution_count": 63,
     "metadata": {},
     "output_type": "execute_result"
    }
   ],
   "source": [
    "s[2]"
   ]
  },
  {
   "cell_type": "code",
   "execution_count": null,
   "metadata": {
    "id": "BLuE1ccsglew",
    "outputId": "f776b650-aad1-419d-aafe-4fe12ae24d86"
   },
   "outputs": [
    {
     "data": {
      "text/plain": [
       "'h'"
      ]
     },
     "execution_count": 64,
     "metadata": {},
     "output_type": "execute_result"
    }
   ],
   "source": [
    "s[3]"
   ]
  },
  {
   "cell_type": "code",
   "execution_count": null,
   "metadata": {
    "id": "F5jzIgPmglew",
    "outputId": "96510481-d51f-4a84-8d77-2717c5bc43d6"
   },
   "outputs": [
    {
     "data": {
      "text/plain": [
       "'o'"
      ]
     },
     "execution_count": 65,
     "metadata": {},
     "output_type": "execute_result"
    }
   ],
   "source": [
    "s[4]"
   ]
  },
  {
   "cell_type": "code",
   "execution_count": null,
   "metadata": {
    "id": "37PUzSr4glex",
    "outputId": "c6f0f079-4901-4f5c-aeba-85a088a40923"
   },
   "outputs": [
    {
     "data": {
      "text/plain": [
       "'n'"
      ]
     },
     "execution_count": 66,
     "metadata": {},
     "output_type": "execute_result"
    }
   ],
   "source": [
    "s[5]"
   ]
  },
  {
   "cell_type": "markdown",
   "metadata": {
    "id": "pBYQec1Zglex"
   },
   "source": [
    "De la misma manera que con los números, podemos \"operar\" entre strings. Verás que hay varios operadores que tienen diferentes acciones en función del tipo de variable con el que operan. Ejemplos son los operadores sobrecargados + y *."
   ]
  },
  {
   "cell_type": "code",
   "execution_count": null,
   "metadata": {
    "id": "TWLIaK-sglex",
    "outputId": "eee71c41-ea4f-4080-ae29-7042dbddffd2"
   },
   "outputs": [
    {
     "data": {
      "text/plain": [
       "'Hola Mundo'"
      ]
     },
     "execution_count": 69,
     "metadata": {},
     "output_type": "execute_result"
    }
   ],
   "source": [
    "'Hola' + ' Mundo'"
   ]
  },
  {
   "cell_type": "code",
   "execution_count": null,
   "metadata": {
    "id": "nO3jzkAyglex",
    "outputId": "81ae8424-ea8c-4bbf-a566-c1bf5e60ca2f"
   },
   "outputs": [
    {
     "data": {
      "text/plain": [
       "'Hola Mundo Hola Mundo Hola Mundo '"
      ]
     },
     "execution_count": 71,
     "metadata": {},
     "output_type": "execute_result"
    }
   ],
   "source": [
    "'Hola Mundo ' * 3"
   ]
  },
  {
   "cell_type": "markdown",
   "metadata": {
    "id": "xRWNf86lgley"
   },
   "source": [
    "Y también podemos transformar varibales de tipo numérico a string, y viceversa."
   ]
  },
  {
   "cell_type": "code",
   "execution_count": null,
   "metadata": {
    "id": "dkJULkgCgley",
    "outputId": "282ac06c-d29d-4c20-8777-c04f217b7b37"
   },
   "outputs": [
    {
     "data": {
      "text/plain": [
       "'5'"
      ]
     },
     "execution_count": 75,
     "metadata": {},
     "output_type": "execute_result"
    }
   ],
   "source": [
    "str(5)"
   ]
  },
  {
   "cell_type": "code",
   "execution_count": null,
   "metadata": {
    "id": "nzwJVDsggley",
    "outputId": "0a440f3a-714e-4fa1-e6f6-c853c68cad17"
   },
   "outputs": [
    {
     "data": {
      "text/plain": [
       "'4.3'"
      ]
     },
     "execution_count": 74,
     "metadata": {},
     "output_type": "execute_result"
    }
   ],
   "source": [
    "str(4.3)"
   ]
  },
  {
   "cell_type": "markdown",
   "metadata": {
    "id": "JRNyeTRZglez"
   },
   "source": [
    "Python disponen de multitud de funciones built-in que permiten manejar los strings de manera muy cómoda (https://docs.python.org/3.7/library/stdtypes.html#string-methods). Estas funciones nos permiten pasar los strings a mayúsculas, minúsculas, contar el número de caracteres, encontrar la posición de un determinado caracter, etc. Una de las más básicas es la función `len`."
   ]
  },
  {
   "cell_type": "code",
   "execution_count": null,
   "metadata": {
    "id": "Vvd4Qm7iglez",
    "outputId": "e2f9a148-ec34-47e1-d855-3f7c8082acbc"
   },
   "outputs": [
    {
     "data": {
      "text/plain": [
       "4"
      ]
     },
     "execution_count": 92,
     "metadata": {},
     "output_type": "execute_result"
    }
   ],
   "source": [
    "len('Hola')"
   ]
  },
  {
   "cell_type": "markdown",
   "metadata": {
    "id": "G7H2iScuglez"
   },
   "source": [
    "## 1.5 Booleanos <a class=\"anchor\" id=\"5\"></a>\n",
    "\n",
    "El último tipo que vamos a ver en esta introducción es el tipo Booleano (verdadero o falos), representados por los valores True y False"
   ]
  },
  {
   "cell_type": "code",
   "execution_count": null,
   "metadata": {
    "id": "0oW8vBKggle0"
   },
   "outputs": [],
   "source": [
    "a = True"
   ]
  },
  {
   "cell_type": "code",
   "execution_count": null,
   "metadata": {
    "id": "9vGMnY28gle0",
    "outputId": "edde4d2d-5344-4eed-f70c-fdcccc788520"
   },
   "outputs": [
    {
     "data": {
      "text/plain": [
       "bool"
      ]
     },
     "execution_count": 77,
     "metadata": {},
     "output_type": "execute_result"
    }
   ],
   "source": [
    "type(a)"
   ]
  },
  {
   "cell_type": "code",
   "execution_count": null,
   "metadata": {
    "id": "H6mB7dEEgle0"
   },
   "outputs": [],
   "source": [
    "b = False"
   ]
  },
  {
   "cell_type": "code",
   "execution_count": null,
   "metadata": {
    "id": "ji-1aePggle1",
    "outputId": "0893d648-ec61-4f12-aa81-c2c731e2f8ec"
   },
   "outputs": [
    {
     "data": {
      "text/plain": [
       "bool"
      ]
     },
     "execution_count": 80,
     "metadata": {},
     "output_type": "execute_result"
    }
   ],
   "source": [
    "type(b)"
   ]
  },
  {
   "cell_type": "markdown",
   "metadata": {
    "id": "oX35D63jgle1"
   },
   "source": [
    "En realidad, en Python cualquier variable \"nula\" tiene el caracter False (el 0, el 0.0,...). Cualquier otro valor es considerado True. Esto podemos verlo fácilmente mediante la función bool que nos permite transformar una variable a tipo booleano."
   ]
  },
  {
   "cell_type": "code",
   "execution_count": null,
   "metadata": {
    "id": "ghK0_arwgle1",
    "outputId": "82869178-4fcd-4905-9542-b3331ccd550e"
   },
   "outputs": [
    {
     "data": {
      "text/plain": [
       "False"
      ]
     },
     "execution_count": 81,
     "metadata": {},
     "output_type": "execute_result"
    }
   ],
   "source": [
    "a = 0.0\n",
    "bool(a)"
   ]
  },
  {
   "cell_type": "code",
   "execution_count": null,
   "metadata": {
    "id": "1gty1gDLgle1",
    "outputId": "e9cdf586-212a-46a3-c809-ef0d147de404"
   },
   "outputs": [
    {
     "data": {
      "text/plain": [
       "True"
      ]
     },
     "execution_count": 82,
     "metadata": {},
     "output_type": "execute_result"
    }
   ],
   "source": [
    "a = 5\n",
    "bool(a)"
   ]
  },
  {
   "cell_type": "markdown",
   "metadata": {
    "id": "1Ffov6njgle2"
   },
   "source": [
    "El tipo de variable boolenaa tiene asociados varios operadores, tanto unarios como binarios (de comparación). Los más utilizados son:\n",
    "* `>`: Mayor \n",
    "* `<`: Menor \n",
    "* `>=`: Mayor o igual \n",
    "+ `<=`: Menor o igual\n",
    "* `==` igualdad\n",
    "* `and`: conjunción\n",
    "* `or`: disyunción\n",
    "* `not`: negación"
   ]
  },
  {
   "cell_type": "code",
   "execution_count": null,
   "metadata": {
    "id": "2kJ3AzTxgle2",
    "outputId": "fb7c0884-3ef4-43e9-f3da-416db8ae6984"
   },
   "outputs": [
    {
     "data": {
      "text/plain": [
       "True"
      ]
     },
     "execution_count": 83,
     "metadata": {},
     "output_type": "execute_result"
    }
   ],
   "source": [
    "5 > 4"
   ]
  },
  {
   "cell_type": "code",
   "execution_count": null,
   "metadata": {
    "id": "Oigx5fy6gle3",
    "outputId": "74d3b200-7b20-4764-911f-c0b18dc2fae1"
   },
   "outputs": [
    {
     "data": {
      "text/plain": [
       "False"
      ]
     },
     "execution_count": 84,
     "metadata": {},
     "output_type": "execute_result"
    }
   ],
   "source": [
    "(5<=3) and (4>2)"
   ]
  },
  {
   "cell_type": "code",
   "execution_count": null,
   "metadata": {
    "id": "i3emJILlgle3",
    "outputId": "c049d2a5-d48e-43b8-c5a0-cc17a62c93bb"
   },
   "outputs": [
    {
     "data": {
      "text/plain": [
       "False"
      ]
     },
     "execution_count": 85,
     "metadata": {},
     "output_type": "execute_result"
    }
   ],
   "source": [
    "2-2==1/2"
   ]
  },
  {
   "cell_type": "code",
   "execution_count": null,
   "metadata": {
    "id": "CA-0todygle3",
    "outputId": "1cc847e8-84ec-4613-dda6-2499a0222fa5"
   },
   "outputs": [
    {
     "data": {
      "text/plain": [
       "True"
      ]
     },
     "execution_count": 86,
     "metadata": {},
     "output_type": "execute_result"
    }
   ],
   "source": [
    "2-2==1//2"
   ]
  },
  {
   "cell_type": "markdown",
   "metadata": {
    "id": "bb5IMNcpgle3"
   },
   "source": [
    "## 1.6 Prioridad de operaciones <a class=\"anchor\" id=\"6\"></a>\n",
    "\n",
    "Al igual que en otros lenguajes de programación, podemos añadir consecutivamente varias operaciones, debiendo tener en cuenta las prioridades que existen entre operadores. Ante la duda, la separación de expresiones excesivamente largas en varias etapas puede ser una buena alternativa. En cualquier caso, el orden de mayor a menor prioridad es:\n",
    "* Paréntesis\n",
    "* Exponentes\n",
    "* Multiplicación y división\n",
    "* Sumas y restas\n",
    "* Operadores lógicos\n",
    "\n",
    "Cuando en una secuencia hay varios operadores de la misma prioridad, la ejecución será siempre de izquierda a derecha"
   ]
  },
  {
   "cell_type": "code",
   "execution_count": null,
   "metadata": {
    "id": "mkchpn5Kgle4",
    "outputId": "cb224667-57fc-4748-a1f0-f7b1b9b86eb5"
   },
   "outputs": [
    {
     "data": {
      "text/plain": [
       "1"
      ]
     },
     "execution_count": 90,
     "metadata": {},
     "output_type": "execute_result"
    }
   ],
   "source": [
    "5-2**2"
   ]
  },
  {
   "cell_type": "code",
   "execution_count": null,
   "metadata": {
    "id": "0JFKGRJFgle5",
    "outputId": "292917ff-1301-4a48-e8c9-7005eb91841a"
   },
   "outputs": [
    {
     "data": {
      "text/plain": [
       "2"
      ]
     },
     "execution_count": 91,
     "metadata": {},
     "output_type": "execute_result"
    }
   ],
   "source": [
    "5-2-1"
   ]
  },
  {
   "cell_type": "code",
   "execution_count": null,
   "metadata": {
    "id": "hUk8w7P2gle5",
    "outputId": "e4c7c234-49c7-4818-b67d-d5e990aaa678"
   },
   "outputs": [
    {
     "data": {
      "text/plain": [
       "True"
      ]
     },
     "execution_count": 88,
     "metadata": {},
     "output_type": "execute_result"
    }
   ],
   "source": [
    "True or True and False"
   ]
  },
  {
   "cell_type": "markdown",
   "metadata": {
    "id": "CCYChCFDgle5"
   },
   "source": [
    "## 1.7 Estructuras alternativas IF-ELSE <a class=\"anchor\" id=\"7\"></a>\n",
    "\n",
    "La estructura alternativa IF-ELSE se utiliza en Python de la siguiente manera:\n",
    "\n",
    "python\n",
    "Copiar código\n",
    "if condicion:\n",
    "    instruccion o lista de instrucciones\n",
    "Los puntos clave a tener en cuenta sobre la sintaxis en Python son los siguientes:\n",
    "\n",
    "Debemos colocar dos puntos (:) justo después de la condición.\n",
    "Todas las instrucciones que forman parte del bloque IF deben estar indentadas. La indentación es lo que permite agrupar una secuencia de instrucciones dentro de una estructura de control, similar al uso de begin-end o {} en otros lenguajes.\n"
   ]
  },
  {
   "cell_type": "code",
   "execution_count": null,
   "metadata": {},
   "outputs": [],
   "source": [
    "if condicion:\n",
    "    instruccion o lista de instrucciones"
   ]
  },
  {
   "cell_type": "code",
   "execution_count": null,
   "metadata": {
    "id": "yIOVoCyEgle6",
    "outputId": "23c8d6c2-5868-4299-d66f-e337e01c419d"
   },
   "outputs": [
    {
     "name": "stdout",
     "output_type": "stream",
     "text": [
      "la variable es mayor que 5\n"
     ]
    }
   ],
   "source": [
    "a = 6\n",
    "if a > 5:\n",
    "    print('la variable es mayor que 5')"
   ]
  },
  {
   "cell_type": "markdown",
   "metadata": {
    "id": "BxQXHGOSgle6"
   },
   "source": [
    "Si queremos introducir un bloque ELSE, escribiremos:\n",
    "\n",
    "`if condicion:\n",
    "    instruccion o lista de instrucciones\n",
    " else:\n",
    "    instruccion o lista de instrucciones`"
   ]
  },
  {
   "cell_type": "code",
   "execution_count": null,
   "metadata": {
    "id": "iG1gr6LWgle6",
    "outputId": "d987e7d7-149d-4d36-e0fb-ddf3e61476af"
   },
   "outputs": [
    {
     "name": "stdout",
     "output_type": "stream",
     "text": [
      "la variable es mayor que 5\n"
     ]
    }
   ],
   "source": [
    "a = 6\n",
    "if a > 5:\n",
    "    print('la variable es mayor que 5')\n",
    "else:\n",
    "    print('la variable no es mayor que 5')"
   ]
  },
  {
   "cell_type": "markdown",
   "metadata": {
    "id": "eDXyGTzUgle7"
   },
   "source": [
    "Podemos seguir anidando más bloques alternativos dentro de otros"
   ]
  },
  {
   "cell_type": "code",
   "execution_count": null,
   "metadata": {
    "id": "if5XTofQgle8",
    "outputId": "dd56b522-2c69-46f2-9991-c56edf225b02"
   },
   "outputs": [
    {
     "name": "stdout",
     "output_type": "stream",
     "text": [
      "la variable es igual a 5\n"
     ]
    }
   ],
   "source": [
    "a = 5\n",
    "if a > 5:\n",
    "    print('la variable es mayor que 5')\n",
    "else:\n",
    "    if a < 5:\n",
    "        print('la variable es menor que 5')\n",
    "    else:\n",
    "        print('la variable es igual a 5')"
   ]
  },
  {
   "cell_type": "markdown",
   "metadata": {
    "id": "yrwuTZHNgle8"
   },
   "source": [
    "Sin embargo, cuando tenemos varias condiciones sobre el mismo conjunto de variables, podemos utilizar la contracción `elif` para ir secuenciando las condiciones."
   ]
  },
  {
   "cell_type": "code",
   "execution_count": null,
   "metadata": {
    "id": "JgVjlx9Hgle8",
    "outputId": "6c78f9f6-2ea6-4ea7-e48c-951b569291d6"
   },
   "outputs": [
    {
     "name": "stdout",
     "output_type": "stream",
     "text": [
      "la variable es menor que 5\n"
     ]
    }
   ],
   "source": [
    "a = 4\n",
    "if a > 5:\n",
    "    print('la variable es mayor que 5')\n",
    "elif a < 5:\n",
    "    print('la variable es menor que 5')\n",
    "else:\n",
    "    print('la variable es igual a 5')"
   ]
  },
  {
   "cell_type": "markdown",
   "metadata": {
    "id": "JPtHMYFFgle9"
   },
   "source": [
    "## 1.8 Estructuras repetitivas WHILE <a class=\"anchor\" id=\"8\"></a>\n",
    "\n",
    "La estructura WHILE nos permite repetir una secuencia de instrucciones mientras se cumpla una condición. La sintaxis es muy similar a la de la estructura IF, y se escribe de la siguiente manera:\n",
    "\n",
    "\n",
    "    instrucción o lista de instrucciones\n",
    "Durante la ejecución, las instrucciones dentro del bloque while se seguirán repitiendo hasta que la condición deje de ser verdadera. Al igual que en otras estructuras, es importante recordar que las instrucciones dentro del bloque deben estar indentadas para pertenecer al ciclo while."
   ]
  },
  {
   "cell_type": "code",
   "execution_count": null,
   "metadata": {},
   "outputs": [],
   "source": [
    "while condicion:\n",
    "    instrucción o lista de instrucciones\n"
   ]
  },
  {
   "cell_type": "code",
   "execution_count": null,
   "metadata": {
    "id": "9ptU5o4tgle-",
    "outputId": "05f13b0b-96d3-4106-e9bc-d7b3ece036bd"
   },
   "outputs": [
    {
     "name": "stdout",
     "output_type": "stream",
     "text": [
      "5\n",
      "4\n",
      "3\n",
      "2\n",
      "1\n",
      "0\n"
     ]
    }
   ],
   "source": [
    "x = 5\n",
    "while x >= 0:\n",
    "    print (x)\n",
    "    x = x-1"
   ]
  },
  {
   "cell_type": "markdown",
   "metadata": {
    "id": "n4KRKA1Rgle_"
   },
   "source": [
    "La instrucción `break` nos permite romper la ejecución del while sin atender a la condición"
   ]
  },
  {
   "cell_type": "code",
   "execution_count": null,
   "metadata": {
    "id": "RPGeEe_mglfA",
    "outputId": "6da65775-645c-49fb-d6ad-ec923cda0adf"
   },
   "outputs": [
    {
     "name": "stdout",
     "output_type": "stream",
     "text": [
      "9\n",
      "8\n",
      "7\n",
      "6\n"
     ]
    }
   ],
   "source": [
    "x = 9\n",
    "y = 0\n",
    "while x >= 0:\n",
    "    print(x)\n",
    "    x = x - 1\n",
    "    y = y + 2\n",
    "    if x == y:\n",
    "        print('Las variables tienen el mismo valor')\n",
    "        break\n",
    "    "
   ]
  },
  {
   "cell_type": "markdown",
   "metadata": {
    "id": "TOuguQDPglfA"
   },
   "source": [
    "Aunque a veces no tenga demasiada utilizada, las estructuras while disponen también de una instrucción `else`, que se ejecutará únicamente cuando la condición del while se evalúe a `False`"
   ]
  },
  {
   "cell_type": "code",
   "execution_count": null,
   "metadata": {
    "id": "n1h019MBglfA",
    "outputId": "3cab7586-e2ee-4a73-db8a-2694b4eeebe9"
   },
   "outputs": [
    {
     "name": "stdout",
     "output_type": "stream",
     "text": [
      "9\n",
      "8\n",
      "7\n",
      "6\n",
      "5\n",
      "4\n",
      "3\n",
      "2\n",
      "1\n",
      "0\n",
      "Las variables nunca han alcanzado el mismo valor\n"
     ]
    }
   ],
   "source": [
    "x = 9\n",
    "y = 1\n",
    "while x >= 0:\n",
    "    print(x)\n",
    "    x = x - 1\n",
    "    y = y + 2\n",
    "    if x == y:\n",
    "        print('Las variables tienen el mismo valor')\n",
    "        break\n",
    "else:\n",
    "    print('Las variables nunca han alcanzado el mismo valor')"
   ]
  },
  {
   "cell_type": "markdown",
   "metadata": {
    "id": "18eO4CWAglfA"
   },
   "source": [
    "## 1.9 Estructuras repetitivas FOR <a class=\"anchor\" id=\"9\"></a>\n",
    "\n",
    "Cuando la repetición de una secuencia de instrucciones no depende de una condición, podemos utilizar la estructura FOR de la siguiente manera:\n",
    "\n",
    "`for variable in elemento_iterable:\n",
    "    instrucción o secuencia de instrucciones`\n",
    "    \n",
    "El concepto de elemento iterable (lo veremos con más profunidad en el siguiente tema) debe ser una variable (explícita o no) que contenga un conjunto de elementos por los que ir iterando. Veámoslo con un ejemplo:"
   ]
  },
  {
   "cell_type": "code",
   "execution_count": null,
   "metadata": {
    "id": "hYwvl_WSglfB",
    "outputId": "de3b61bc-5904-4858-fe58-f5f4bfffb270"
   },
   "outputs": [
    {
     "name": "stdout",
     "output_type": "stream",
     "text": [
      "5\n",
      "7\n",
      "-1\n"
     ]
    }
   ],
   "source": [
    "for x in [5, 7 ,-1]:\n",
    "    print(x)"
   ]
  },
  {
   "cell_type": "markdown",
   "metadata": {
    "id": "6XtzyODFglfB"
   },
   "source": [
    "En el ejemplo anterior, el conjunto iterable es una lista de elementos. La estructura for va iterando sobre dicha lista, asignando a la variable x cada uno de los elementos que aparecen en la lista."
   ]
  },
  {
   "cell_type": "code",
   "execution_count": null,
   "metadata": {
    "id": "F5gnWswvglfB",
    "outputId": "0f56d7c6-b9f7-4c24-b4e4-4ab1fc5baf8b"
   },
   "outputs": [
    {
     "name": "stdout",
     "output_type": "stream",
     "text": [
      "Hola\n",
      "que\n",
      "tal\n"
     ]
    }
   ],
   "source": [
    "for palabra in ['Hola', 'que', 'tal']:\n",
    "    print(palabra)"
   ]
  },
  {
   "cell_type": "markdown",
   "metadata": {
    "id": "HuuuLW0LglfC"
   },
   "source": [
    "Incluso los propios `strings` pueden considerarse como elementos iterables, pudiendo fácilmente hacer un recorrido por sus caracteres."
   ]
  },
  {
   "cell_type": "code",
   "execution_count": null,
   "metadata": {
    "id": "C-H9hpW1glfC",
    "outputId": "7c23d9cc-2cb3-47e3-8f68-3e706ec8b88d"
   },
   "outputs": [
    {
     "name": "stdout",
     "output_type": "stream",
     "text": [
      "E\n",
      "x\n",
      "p\n",
      "e\n",
      "r\n",
      "t\n",
      "o\n"
     ]
    }
   ],
   "source": [
    "for letra in 'Experto':\n",
    "    print(letra)"
   ]
  },
  {
   "cell_type": "markdown",
   "metadata": {
    "id": "7_5bcN3UglfC"
   },
   "source": [
    "Sin embargo, la mayoría de las veces queremos utilizar la estructura FOR para ejecutar un número concreto de iteraciones (por ejemplo, 10). En este caso, podríamos hacer lo siguiente..."
   ]
  },
  {
   "cell_type": "code",
   "execution_count": null,
   "metadata": {
    "id": "CpP3BCvWglfC",
    "outputId": "8c725e90-2f94-4764-d30a-61f616fc9a02"
   },
   "outputs": [
    {
     "name": "stdout",
     "output_type": "stream",
     "text": [
      "0\n",
      "1\n",
      "2\n",
      "3\n",
      "4\n",
      "5\n",
      "6\n",
      "7\n",
      "8\n",
      "9\n"
     ]
    }
   ],
   "source": [
    "for i in [0,1,2,3,4,5,6,7,8,9]:\n",
    "    print(i)"
   ]
  },
  {
   "cell_type": "markdown",
   "metadata": {
    "id": "vJ4UlXy3glfD"
   },
   "source": [
    "...Pero no tiene mucho sentido cuando el número de ejecuciones sea mucho más grande (100, 1000). Para ello, podemos utilizar la función `range`, que nos devuelve un elemento iterable (lista) con los números que especifiquemos. Por ejemplo, `range(10)` nos devolverá un iterables como el del ejemplo anterior."
   ]
  },
  {
   "cell_type": "code",
   "execution_count": null,
   "metadata": {
    "id": "qZVdwkV4glfD",
    "outputId": "56fe4354-f134-4184-e1b8-19b39f4657ed"
   },
   "outputs": [
    {
     "name": "stdout",
     "output_type": "stream",
     "text": [
      "0\n",
      "1\n",
      "2\n",
      "3\n",
      "4\n",
      "5\n",
      "6\n",
      "7\n",
      "8\n",
      "9\n"
     ]
    }
   ],
   "source": [
    "for i in range(10):\n",
    "    print(i)"
   ]
  },
  {
   "cell_type": "markdown",
   "metadata": {
    "id": "bcyKmpQrglfD"
   },
   "source": [
    "La función `range` posee además otros parámetros optativos que nos permiten mayor flexibilidad en los elementos iterables."
   ]
  },
  {
   "cell_type": "code",
   "execution_count": null,
   "metadata": {
    "id": "iTSr89E1glfD",
    "outputId": "023c8760-9001-4b10-e51a-b4f531f0ce9e"
   },
   "outputs": [
    {
     "name": "stdout",
     "output_type": "stream",
     "text": [
      "5\n",
      "6\n",
      "7\n",
      "8\n",
      "9\n"
     ]
    }
   ],
   "source": [
    "for i in range(5, 10):\n",
    "    print(i)"
   ]
  },
  {
   "cell_type": "code",
   "execution_count": null,
   "metadata": {
    "id": "UN8JircKglfE",
    "outputId": "1dbcd372-0a2b-4b11-c45d-08371a413a55"
   },
   "outputs": [
    {
     "name": "stdout",
     "output_type": "stream",
     "text": [
      "0\n",
      "3\n",
      "6\n",
      "9\n"
     ]
    }
   ],
   "source": [
    "for i in range(0, 10, 3):\n",
    "    print(i)"
   ]
  },
  {
   "cell_type": "markdown",
   "metadata": {
    "id": "QcbvYKixglfE"
   },
   "source": [
    "Al igual que ocurre en la estructura WHILE, podemos romper la ejecución del FOR antes de \"agotar\" el elemento iterable mediante la instrucción `break`. También disponemos de una instrucción `else` que se ejecutará como última instrucción una vez agotado el elemento iterable."
   ]
  },
  {
   "cell_type": "markdown",
   "metadata": {
    "id": "ZXFDffwiglfG"
   },
   "source": [
    "## 1.10 Entrada-salida estándar <a class=\"anchor\" id=\"10\"></a>\n",
    "\n",
    "Por último, vamos a ver cómo leer/escribir información desde y hacia el exterior a través del teclado y la pantalla, lo cual será útil para estas primeras semanas de entrenamiento.\n",
    "\n",
    "La entrada de datos por teclado la realizaremos mediante la instrucción `input`, que nos devolverá un string recogido del teclado."
   ]
  },
  {
   "cell_type": "code",
   "execution_count": null,
   "metadata": {
    "id": "zZBrhFvlglfG",
    "outputId": "e09a743a-9dd1-4f22-8cfe-8e9994bf7669"
   },
   "outputs": [
    {
     "name": "stdout",
     "output_type": "stream",
     "text": [
      "Introduce algo: Hola\n",
      "Hola\n"
     ]
    }
   ],
   "source": [
    "x = input('Introduce algo: ')\n",
    "print(x)"
   ]
  },
  {
   "cell_type": "markdown",
   "metadata": {
    "id": "r37Lzo2vglfH"
   },
   "source": [
    "Es importante recordar que la entrada siempre es de tipo string y, por tanto, debemos transformar las variables al tipo necesario antes de poder operar con ellas."
   ]
  },
  {
   "cell_type": "code",
   "execution_count": null,
   "metadata": {
    "id": "dDteOxqvglfH",
    "outputId": "6223e464-2854-4af0-d6ac-8194c4a2f7ab"
   },
   "outputs": [
    {
     "name": "stdout",
     "output_type": "stream",
     "text": [
      "Introduce un numero: 5\n"
     ]
    },
    {
     "ename": "TypeError",
     "evalue": "can only concatenate str (not \"int\") to str",
     "output_type": "error",
     "traceback": [
      "\u001b[1;31m---------------------------------------------------------------------------\u001b[0m",
      "\u001b[1;31mTypeError\u001b[0m                                 Traceback (most recent call last)",
      "\u001b[1;32m<ipython-input-116-a4be2a94da9a>\u001b[0m in \u001b[0;36m<module>\u001b[1;34m\u001b[0m\n\u001b[0;32m      1\u001b[0m \u001b[0mx\u001b[0m \u001b[1;33m=\u001b[0m \u001b[0minput\u001b[0m\u001b[1;33m(\u001b[0m\u001b[1;34m'Introduce un numero: '\u001b[0m\u001b[1;33m)\u001b[0m\u001b[1;33m\u001b[0m\u001b[1;33m\u001b[0m\u001b[0m\n\u001b[1;32m----> 2\u001b[1;33m \u001b[0mx\u001b[0m \u001b[1;33m=\u001b[0m \u001b[0mx\u001b[0m \u001b[1;33m+\u001b[0m \u001b[1;36m1\u001b[0m\u001b[1;33m\u001b[0m\u001b[1;33m\u001b[0m\u001b[0m\n\u001b[0m\u001b[0;32m      3\u001b[0m \u001b[0mprint\u001b[0m\u001b[1;33m(\u001b[0m\u001b[0mx\u001b[0m\u001b[1;33m)\u001b[0m\u001b[1;33m\u001b[0m\u001b[1;33m\u001b[0m\u001b[0m\n",
      "\u001b[1;31mTypeError\u001b[0m: can only concatenate str (not \"int\") to str"
     ]
    }
   ],
   "source": [
    "x = input('Introduce un numero: ')\n",
    "x = x + 1\n",
    "print(x)"
   ]
  },
  {
   "cell_type": "code",
   "execution_count": null,
   "metadata": {
    "id": "Zsy7gIFbglfH",
    "outputId": "070485ca-c5c3-4956-b97a-9380d0001332"
   },
   "outputs": [
    {
     "name": "stdout",
     "output_type": "stream",
     "text": [
      "Introduce un numero: 5\n",
      "6\n"
     ]
    }
   ],
   "source": [
    "x = int(input('Introduce un numero: '))\n",
    "x = x + 1\n",
    "print(x)"
   ]
  },
  {
   "cell_type": "markdown",
   "metadata": {
    "id": "hCQ9Q1TAglfH"
   },
   "source": [
    "La salida de datos por pantalla la haremos mediante la instrucción `print`. El print nos permite concatenar sucesivas variables o literales."
   ]
  },
  {
   "cell_type": "code",
   "execution_count": null,
   "metadata": {
    "id": "578bO2i_glfI",
    "outputId": "c67b5cab-86a3-41b0-8fb4-6a6dbaad08a8"
   },
   "outputs": [
    {
     "name": "stdout",
     "output_type": "stream",
     "text": [
      "hola  que  tal\n"
     ]
    }
   ],
   "source": [
    "print('hola', ' que', ' tal')"
   ]
  },
  {
   "cell_type": "code",
   "execution_count": null,
   "metadata": {
    "id": "RyxGJK1sglfI",
    "outputId": "1557b569-8486-4e8a-c183-453200e4cf02"
   },
   "outputs": [
    {
     "name": "stdout",
     "output_type": "stream",
     "text": [
      "El numero es  5\n"
     ]
    }
   ],
   "source": [
    "print('El numero es ', 5)"
   ]
  },
  {
   "cell_type": "code",
   "execution_count": null,
   "metadata": {
    "id": "jnyVhbOLglfJ",
    "outputId": "4dd01328-af2a-48ad-a02d-82262da0a0c5"
   },
   "outputs": [
    {
     "name": "stdout",
     "output_type": "stream",
     "text": [
      "El numero es  5\n"
     ]
    }
   ],
   "source": [
    "x = 5\n",
    "print('El numero es ', x)"
   ]
  },
  {
   "cell_type": "code",
   "execution_count": null,
   "metadata": {
    "id": "UEeI2SllglfJ",
    "outputId": "9efad4f3-020a-4991-cddf-5b54572d27a2"
   },
   "outputs": [
    {
     "name": "stdout",
     "output_type": "stream",
     "text": [
      "El numero es  5  y el siguiente es  6\n"
     ]
    }
   ],
   "source": [
    "x = 5\n",
    "print('El numero es ', x, ' y el siguiente es ', x+1)"
   ]
  },
  {
   "cell_type": "markdown",
   "metadata": {
    "id": "lcHzaCm2glfJ"
   },
   "source": [
    "De una manera muy parecida a C, podemos utilizar caracteres especiales para el formato del string, utilizando `%d` (para enteros), `%f` (para reales), etc..."
   ]
  },
  {
   "cell_type": "code",
   "execution_count": null,
   "metadata": {
    "id": "YNUu5ig1glfJ",
    "outputId": "94026dbc-f736-4280-de2e-645de17803ac"
   },
   "outputs": [
    {
     "name": "stdout",
     "output_type": "stream",
     "text": [
      "La longitud de la circunferencia es 25.120000\n"
     ]
    }
   ],
   "source": [
    "x = 4\n",
    "l = 3.14 * 2 * x\n",
    "print('La longitud de la circunferencia es %f' % l)"
   ]
  },
  {
   "cell_type": "markdown",
   "metadata": {
    "id": "FWD4L2XsglfK"
   },
   "source": [
    "Otra forma más simple de poder combinar variables y literales es la utilización del método `format`. Lo que hacemos con este método es \"formatear\" un string supliendo los huecos con valores de variables."
   ]
  },
  {
   "cell_type": "code",
   "execution_count": null,
   "metadata": {
    "id": "nSfRoFTtglfK",
    "outputId": "a26a1905-e7b5-4823-935a-7f0c13f00c2b"
   },
   "outputs": [
    {
     "name": "stdout",
     "output_type": "stream",
     "text": [
      "Numeros 1 y 3\n"
     ]
    }
   ],
   "source": [
    "print(\"Numeros {} y {}\".format(1, 3))"
   ]
  },
  {
   "cell_type": "code",
   "execution_count": null,
   "metadata": {
    "id": "xdkC523HglfK",
    "outputId": "a55dbc5d-db2f-4a4f-d782-899b015315a2"
   },
   "outputs": [
    {
     "name": "stdout",
     "output_type": "stream",
     "text": [
      "La longitud de la circunferencia es 25.13272\n"
     ]
    }
   ],
   "source": [
    "x = 4\n",
    "print('La longitud de la circunferencia es {}'.format(2*3.14159*x))"
   ]
  },
  {
   "cell_type": "code",
   "execution_count": null,
   "metadata": {
    "id": "yrpJxJS8glfK",
    "outputId": "4bd97e93-3573-47ff-8895-307394f436d5"
   },
   "outputs": [
    {
     "name": "stdout",
     "output_type": "stream",
     "text": [
      "La longitud de la circunferencia es 25.13\n"
     ]
    }
   ],
   "source": [
    "x = 4\n",
    "print('La longitud de la circunferencia es {:.2f}'.format(2*3.14159*x))"
   ]
  },
  {
   "cell_type": "markdown",
   "metadata": {
    "id": "3CRJEwQLglfL"
   },
   "source": [
    "Podemos incluso numerar los huecos"
   ]
  },
  {
   "cell_type": "code",
   "execution_count": null,
   "metadata": {
    "id": "MLLCIqk3glfL",
    "outputId": "bcd253ea-3972-4a85-df28-3881526e288e"
   },
   "outputs": [
    {
     "name": "stdout",
     "output_type": "stream",
     "text": [
      "Hola Pepe y Antonio\n"
     ]
    }
   ],
   "source": [
    "print(\"Hola {0} y {1}\".format('Pepe', 'Antonio'))"
   ]
  },
  {
   "cell_type": "code",
   "execution_count": null,
   "metadata": {
    "id": "AN81h6xcglfM",
    "outputId": "7a98b6d9-bf3c-4142-bc09-2e055e01935e"
   },
   "outputs": [
    {
     "name": "stdout",
     "output_type": "stream",
     "text": [
      "Hola Antonio y Pepe\n"
     ]
    }
   ],
   "source": [
    "print(\"Hola {1} y {0}\".format('Pepe', 'Antonio'))"
   ]
  },
  {
   "cell_type": "code",
   "execution_count": null,
   "metadata": {
    "id": "W3VMQmZPglfM",
    "outputId": "77b56d8c-3bb0-4e87-dbe8-d12b48635722"
   },
   "outputs": [
    {
     "name": "stdout",
     "output_type": "stream",
     "text": [
      "Hola Pepe, Antonio, Antonio y Pepe\n"
     ]
    }
   ],
   "source": [
    "print(\"Hola {0}, {1}, {1} y {0}\".format('Pepe', 'Antonio'))"
   ]
  }
 ],
 "metadata": {
  "colab": {
   "collapsed_sections": [
    "ohap3Czfglek",
    "G7H2iScuglez",
    "bb5IMNcpgle3",
    "CCYChCFDgle5",
    "JPtHMYFFgle9",
    "18eO4CWAglfA",
    "ZXFDffwiglfG"
   ],
   "provenance": []
  },
  "kernelspec": {
   "display_name": "Python 3 (ipykernel)",
   "language": "python",
   "name": "python3"
  },
  "language_info": {
   "codemirror_mode": {
    "name": "ipython",
    "version": 3
   },
   "file_extension": ".py",
   "mimetype": "text/x-python",
   "name": "python",
   "nbconvert_exporter": "python",
   "pygments_lexer": "ipython3",
   "version": "3.12.4"
  }
 },
 "nbformat": 4,
 "nbformat_minor": 4
}
